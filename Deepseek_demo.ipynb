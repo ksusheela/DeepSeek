{
  "nbformat": 4,
  "nbformat_minor": 0,
  "metadata": {
    "colab": {
      "provenance": []
    },
    "kernelspec": {
      "name": "python3",
      "display_name": "Python 3"
    },
    "language_info": {
      "name": "python"
    }
  },
  "cells": [
    {
      "cell_type": "code",
      "execution_count": 3,
      "metadata": {
        "id": "w6CGkKgFCKhU"
      },
      "outputs": [],
      "source": [
        "from groq import Groq"
      ]
    },
    {
      "cell_type": "code",
      "source": [
        "!pip install groq"
      ],
      "metadata": {
        "colab": {
          "base_uri": "https://localhost:8080/"
        },
        "id": "mJVJYjwKCXiY",
        "outputId": "fb351189-6b50-4c40-a22b-8a1cd942e9cb"
      },
      "execution_count": 2,
      "outputs": [
        {
          "output_type": "stream",
          "name": "stdout",
          "text": [
            "Collecting groq\n",
            "  Downloading groq-0.16.0-py3-none-any.whl.metadata (14 kB)\n",
            "Requirement already satisfied: anyio<5,>=3.5.0 in /usr/local/lib/python3.11/dist-packages (from groq) (3.7.1)\n",
            "Requirement already satisfied: distro<2,>=1.7.0 in /usr/local/lib/python3.11/dist-packages (from groq) (1.9.0)\n",
            "Requirement already satisfied: httpx<1,>=0.23.0 in /usr/local/lib/python3.11/dist-packages (from groq) (0.28.1)\n",
            "Requirement already satisfied: pydantic<3,>=1.9.0 in /usr/local/lib/python3.11/dist-packages (from groq) (2.10.6)\n",
            "Requirement already satisfied: sniffio in /usr/local/lib/python3.11/dist-packages (from groq) (1.3.1)\n",
            "Requirement already satisfied: typing-extensions<5,>=4.10 in /usr/local/lib/python3.11/dist-packages (from groq) (4.12.2)\n",
            "Requirement already satisfied: idna>=2.8 in /usr/local/lib/python3.11/dist-packages (from anyio<5,>=3.5.0->groq) (3.10)\n",
            "Requirement already satisfied: certifi in /usr/local/lib/python3.11/dist-packages (from httpx<1,>=0.23.0->groq) (2024.12.14)\n",
            "Requirement already satisfied: httpcore==1.* in /usr/local/lib/python3.11/dist-packages (from httpx<1,>=0.23.0->groq) (1.0.7)\n",
            "Requirement already satisfied: h11<0.15,>=0.13 in /usr/local/lib/python3.11/dist-packages (from httpcore==1.*->httpx<1,>=0.23.0->groq) (0.14.0)\n",
            "Requirement already satisfied: annotated-types>=0.6.0 in /usr/local/lib/python3.11/dist-packages (from pydantic<3,>=1.9.0->groq) (0.7.0)\n",
            "Requirement already satisfied: pydantic-core==2.27.2 in /usr/local/lib/python3.11/dist-packages (from pydantic<3,>=1.9.0->groq) (2.27.2)\n",
            "Downloading groq-0.16.0-py3-none-any.whl (109 kB)\n",
            "\u001b[2K   \u001b[90m━━━━━━━━━━━━━━━━━━━━━━━━━━━━━━━━━━━━━━━━\u001b[0m \u001b[32m109.7/109.7 kB\u001b[0m \u001b[31m2.8 MB/s\u001b[0m eta \u001b[36m0:00:00\u001b[0m\n",
            "\u001b[?25hInstalling collected packages: groq\n",
            "Successfully installed groq-0.16.0\n"
          ]
        }
      ]
    },
    {
      "cell_type": "code",
      "source": [
        "client = Groq(api_key = \"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\")"
      ],
      "metadata": {
        "id": "WV_qH_OWC13N"
      },
      "execution_count": 4,
      "outputs": []
    },
    {
      "cell_type": "code",
      "source": [
        "user_input = \"Tell me about Agentic AI\""
      ],
      "metadata": {
        "id": "_uW6PgqkFfkA"
      },
      "execution_count": 13,
      "outputs": []
    },
    {
      "cell_type": "code",
      "source": [
        "completion = client.chat.completions.create(\n",
        "\n",
        "    model = \"deepseek-r1-distill-llama-70b\",\n",
        "    messages = [\n",
        "        {\n",
        "            \"role\": \"user\",\n",
        "            \"content\": user_input\n",
        "\n",
        "    }\n",
        "        ],\n",
        "    temperature = 0.6,\n",
        "    max_completion_tokens = 4096,\n",
        "    stream = True,\n",
        "    stop = None\n",
        "\n",
        ")\n",
        "\n",
        "for chunk in completion:\n",
        "  print(chunk.choices[0].delta.content or \"\", end=\"\")\n",
        "\n"
      ],
      "metadata": {
        "colab": {
          "base_uri": "https://localhost:8080/"
        },
        "id": "grqNJaDiC16I",
        "outputId": "3a2edf57-a03f-446a-940a-dfffdf62ff55"
      },
      "execution_count": 14,
      "outputs": [
        {
          "output_type": "stream",
          "name": "stdout",
          "text": [
            "<think>\n",
            "\n",
            "</think>\n",
            "\n",
            "Agentic AI refers to artificial intelligence systems that are designed to act autonomously on behalf of users, organizations, or other entities. These AI agents are capable of making decisions, taking actions, and achieving specific goals without direct human intervention. Agentic AI combines elements of machine learning, natural language processing, and decision-making algorithms to create systems that can interact with their environment, adapt to changes, and learn from experiences.\n",
            "\n",
            "### Key Characteristics of Agentic AI:\n",
            "1. **Autonomy**: Agentic AI operates independently, making decisions and performing tasks without constant human oversight.\n",
            "2. **Goal-Oriented**: These systems are designed to achieve specific objectives, whether it's managing schedules, optimizing resources, or providing personalized recommendations.\n",
            "3. **Learning and Adaptation**: Agentic AI can improve over time by learning from data, feedback, and interactions with the environment.\n",
            "4. **Decision-Making**: They can analyze situations, weigh options, and choose the best course of action based on predefined criteria or learned patterns.\n",
            "5. **Interactivity**: Many agentic AI systems can interact with humans or other systems through natural language or APIs, enabling seamless integration into workflows.\n",
            "\n",
            "### Applications of Agentic AI:\n",
            "- **Virtual Assistants**: AI agents like Siri, Alexa, and Google Assistant perform tasks such as setting reminders, answering questions, and controlling smart home devices.\n",
            "- **Business Automation**: Agentic AI can manage inventory, optimize supply chains, and handle customer service tasks.\n",
            "- **Healthcare**: AI agents can assist with diagnosis, treatment recommendations, and patient monitoring.\n",
            "- **Finance**: They can trade stocks, manage portfolios, and detect fraudulent transactions.\n",
            "- **Smart Homes and Cities**: Agentic AI can optimize energy usage, traffic flow, and public services.\n",
            "\n",
            "### Challenges and Considerations:\n",
            "- **Ethics and Responsibility**: As agentic AI makes autonomous decisions, questions arise about accountability, transparency, and fairness.\n",
            "- **Security**: Autonomous systems can be vulnerable to manipulation or hacking, posing risks to privacy and safety.\n",
            "- **Trust and Reliability**: Users must trust that the AI agent will act in their best interests and perform reliably in all scenarios.\n",
            "- **Regulation**: There is a need for frameworks to govern the development and deployment of agentic AI to ensure ethical and safe use.\n",
            "\n",
            "### Future of Agentic AI:\n",
            "As AI technology advances, agentic AI is expected to become more sophisticated, integrating with emerging technologies like IoT, blockchain, and quantum computing. The potential for agentic AI to transform industries and daily life is immense, but it also requires careful consideration of the ethical, legal, and societal implications.\n",
            "\n",
            "In summary, agentic AI represents a significant evolution in artificial intelligence, moving beyond traditional rule-based systems to create autonomous, adaptive, and goal-oriented agents that can operate effectively in complex environments."
          ]
        }
      ]
    },
    {
      "cell_type": "code",
      "source": [],
      "metadata": {
        "id": "vxbKkLmZC1--"
      },
      "execution_count": null,
      "outputs": []
    },
    {
      "cell_type": "code",
      "source": [],
      "metadata": {
        "id": "Gc8V6_scC2Bx"
      },
      "execution_count": null,
      "outputs": []
    },
    {
      "cell_type": "code",
      "source": [],
      "metadata": {
        "id": "tU5dn9b-C2E_"
      },
      "execution_count": null,
      "outputs": []
    },
    {
      "cell_type": "code",
      "source": [],
      "metadata": {
        "id": "bgx0yfAxC2IW"
      },
      "execution_count": null,
      "outputs": []
    }
  ]
}