{
  "nbformat": 4,
  "nbformat_minor": 0,
  "metadata": {
    "colab": {
      "provenance": []
    },
    "kernelspec": {
      "name": "python3",
      "display_name": "Python 3"
    },
    "language_info": {
      "name": "python"
    }
  },
  "cells": [
    {
      "cell_type": "code",
      "execution_count": 3,
      "metadata": {
        "id": "w6CGkKgFCKhU"
      },
      "outputs": [],
      "source": [
        "from groq import Groq"
      ]
    },
    {
      "cell_type": "code",
      "source": [
        "!pip install groq"
      ],
      "metadata": {
        "colab": {
          "base_uri": "https://localhost:8080/"
        },
        "id": "mJVJYjwKCXiY",
        "outputId": "ae058857-8974-403d-e39d-91f559f59c38"
      },
      "execution_count": 2,
      "outputs": [
        {
          "output_type": "stream",
          "name": "stdout",
          "text": [
            "Collecting groq\n",
            "  Downloading groq-0.16.0-py3-none-any.whl.metadata (14 kB)\n",
            "Requirement already satisfied: anyio<5,>=3.5.0 in /usr/local/lib/python3.11/dist-packages (from groq) (3.7.1)\n",
            "Requirement already satisfied: distro<2,>=1.7.0 in /usr/local/lib/python3.11/dist-packages (from groq) (1.9.0)\n",
            "Requirement already satisfied: httpx<1,>=0.23.0 in /usr/local/lib/python3.11/dist-packages (from groq) (0.28.1)\n",
            "Requirement already satisfied: pydantic<3,>=1.9.0 in /usr/local/lib/python3.11/dist-packages (from groq) (2.10.6)\n",
            "Requirement already satisfied: sniffio in /usr/local/lib/python3.11/dist-packages (from groq) (1.3.1)\n",
            "Requirement already satisfied: typing-extensions<5,>=4.10 in /usr/local/lib/python3.11/dist-packages (from groq) (4.12.2)\n",
            "Requirement already satisfied: idna>=2.8 in /usr/local/lib/python3.11/dist-packages (from anyio<5,>=3.5.0->groq) (3.10)\n",
            "Requirement already satisfied: certifi in /usr/local/lib/python3.11/dist-packages (from httpx<1,>=0.23.0->groq) (2024.12.14)\n",
            "Requirement already satisfied: httpcore==1.* in /usr/local/lib/python3.11/dist-packages (from httpx<1,>=0.23.0->groq) (1.0.7)\n",
            "Requirement already satisfied: h11<0.15,>=0.13 in /usr/local/lib/python3.11/dist-packages (from httpcore==1.*->httpx<1,>=0.23.0->groq) (0.14.0)\n",
            "Requirement already satisfied: annotated-types>=0.6.0 in /usr/local/lib/python3.11/dist-packages (from pydantic<3,>=1.9.0->groq) (0.7.0)\n",
            "Requirement already satisfied: pydantic-core==2.27.2 in /usr/local/lib/python3.11/dist-packages (from pydantic<3,>=1.9.0->groq) (2.27.2)\n",
            "Downloading groq-0.16.0-py3-none-any.whl (109 kB)\n",
            "\u001b[2K   \u001b[90m━━━━━━━━━━━━━━━━━━━━━━━━━━━━━━━━━━━━━━━━\u001b[0m \u001b[32m109.7/109.7 kB\u001b[0m \u001b[31m2.2 MB/s\u001b[0m eta \u001b[36m0:00:00\u001b[0m\n",
            "\u001b[?25hInstalling collected packages: groq\n",
            "Successfully installed groq-0.16.0\n"
          ]
        }
      ]
    },
    {
      "cell_type": "code",
      "source": [
        "client = Groq(api_key = \"\")"
      ],
      "metadata": {
        "id": "WV_qH_OWC13N"
      },
      "execution_count": 4,
      "outputs": []
    },
    {
      "cell_type": "code",
      "source": [
        "user_input = \"Tell me about Deepseek how can it replate with open ai\""
      ],
      "metadata": {
        "id": "_uW6PgqkFfkA"
      },
      "execution_count": 9,
      "outputs": []
    },
    {
      "cell_type": "code",
      "source": [
        "completion = client.chat.completions.create(\n",
        "\n",
        "    model = \"deepseek-r1-distill-llama-70b\",\n",
        "    messages = [\n",
        "        {\n",
        "            \"role\": \"user\",\n",
        "            \"content\": user_input\n",
        "\n",
        "    }\n",
        "        ],\n",
        "    temperature = 0.6,\n",
        "    max_completion_tokens = 4096,\n",
        "    stream = True,\n",
        "    stop = None\n",
        "\n",
        ")\n",
        "\n",
        "for chunk in completion:\n",
        "  print(chunk.choices[0].delta.content or \"\", end=\"\")\n",
        "\n"
      ],
      "metadata": {
        "colab": {
          "base_uri": "https://localhost:8080/"
        },
        "id": "grqNJaDiC16I",
        "outputId": "7e3c3908-8ede-4e15-b8bb-a4a72341f015"
      },
      "execution_count": 10,
      "outputs": [
        {
          "output_type": "stream",
          "name": "stdout",
          "text": [
            "<think>\n",
            "Okay, so I'm trying to understand what DeepSeek is and how it compares to OpenAI. I've heard a bit about OpenAI, especially their GPT models, but DeepSeek is new to me. Let me start by breaking down what I know.\n",
            "\n",
            "First, OpenAI is a well-known company in the AI field, especially famous for their GPT models which are used in chatbots, writing tools, and more. They offer various APIs that developers can integrate into their applications. So, if DeepSeek is an alternative, it must be offering similar services but perhaps with some differences.\n",
            "\n",
            "I'm thinking about what makes an AI service like OpenAI successful. It's probably the accuracy, the range of services they offer, ease of integration, cost, and community support. So, if DeepSeek is to replace OpenAI, it needs to match or exceed these aspects.\n",
            "\n",
            "I wonder what specific features DeepSeek has. Do they have their own language models, or are they using something else? Maybe they offer more specialized models for certain industries, like healthcare or finance, which could be a plus. Also, cost is a big factor. If DeepSeek is more affordable without sacrificing performance, that could attract users.\n",
            "\n",
            "Ease of use is another consideration. Does DeepSeek provide good documentation and easy-to-use APIs? If a developer can integrate DeepSeek's services more easily than OpenAI's, that might be a reason to switch. Community and support are also important. A strong community can lead to more resources and faster troubleshooting.\n",
            "\n",
            "I'm also thinking about ethical considerations. AI has a lot of potential for misuse, so if DeepSeek has stronger ethical guidelines or better privacy policies, that could be a selling point. Maybe they have more transparent practices about how their models are trained and what data they use.\n",
            "\n",
            "Another angle is customization. Can DeepSeek's models be fine-tuned more easily for specific tasks? If businesses can adapt the AI to their exact needs without much hassle, that's a big advantage.\n",
            "\n",
            "I should also consider the technology stack. Does DeepSeek use the latest advancements in AI research? If their models are more efficient or use less computational resources, that could lower costs for users and make them more accessible.\n",
            "\n",
            "I'm curious about their target audience. OpenAI serves a broad range of users, from startups to large enterprises. Does DeepSeek focus on a specific niche or also cater to a wide audience? Maybe they have better support for certain industries, which could make them a better choice for companies in those fields.\n",
            "\n",
            "Scalability is another factor. Can DeepSeek handle high traffic and large-scale applications as effectively as OpenAI? If they offer better scalability options, that would be beneficial for growing businesses.\n",
            "\n",
            "I also think about the user interface. If DeepSeek's dashboard or tools are more user-friendly, it could improve the overall experience, making it easier for both developers and non-developers to utilize their services.\n",
            "\n",
            "Support and documentation are crucial too. If DeepSeek provides better customer support, faster response times, or more comprehensive documentation, it could make a difference in the user experience.\n",
            "\n",
            "Another thought is about the community ecosystem. OpenAI has a large community and a lot of third-party tools and integrations. If DeepSeek is building a similar ecosystem, it could offer more options for users to extend the functionality of their services.\n",
            "\n",
            "I'm also considering the pricing model. Does DeepSeek offer more flexible pricing plans, or perhaps a free tier that's more generous? Cost is always a significant factor for many businesses, especially startups with limited budgets.\n",
            "\n",
            "Lastly, I think about the future. What's the roadmap for DeepSeek? If they have a clear plan for future developments, improvements, and new features, it could indicate long-term viability as an alternative to OpenAI.\n",
            "\n",
            "Putting it all together, DeepSeek would need to excel in several of these areas to effectively replace OpenAI. It's not just about having similar features, but also about offering something better or different that meets the needs of the users more effectively.\n",
            "</think>\n",
            "\n",
            "DeepSeek is an emerging alternative to OpenAI, offering a range of AI services that could potentially replace OpenAI in certain contexts. Here's a structured overview of how DeepSeek might position itself as a viable alternative:\n",
            "\n",
            "### Key Features and Advantages of DeepSeek:\n",
            "\n",
            "1. **Specialized Models**: DeepSeek may offer models tailored for specific industries such as healthcare or finance, providing domain-specific solutions that could be more effective than general-purpose models.\n",
            "\n",
            "2. **Cost-Effectiveness**: If DeepSeek offers more affordable pricing without compromising performance, it could attract cost-sensitive users, especially startups and small businesses.\n",
            "\n",
            "3. **Ease of Integration**: User-friendly APIs and comprehensive documentation can make DeepSeek more accessible, especially for developers who value ease of integration.\n",
            "\n",
            "4. **Community and Support**: A strong community and robust customer support can enhance the user experience, providing resources and troubleshooting assistance.\n",
            "\n",
            "5. **Ethical Considerations**: Stronger ethical guidelines and transparent data practices could make DeepSeek a preferred choice for privacy-conscious users.\n",
            "\n",
            "6. **Customization Options**: Easy fine-tuning of models for specific tasks can appeal to businesses seeking tailored AI solutions.\n",
            "\n",
            "7. **Technology and Efficiency**: Utilization of the latest AI research and efficient models could reduce computational costs and improve accessibility.\n",
            "\n",
            "8. **Target Audience and Scalability**: While potentially catering to a broad audience, DeepSeek might focus on specific niches or offer scalable solutions for growing businesses.\n",
            "\n",
            "9. **User Interface**: A more intuitive dashboard could improve usability for both developers and non-developers.\n",
            "\n",
            "10. **Pricing Model**: Flexible pricing plans, including a generous free tier, could attract budget-conscious users.\n",
            "\n",
            "11. **Community Ecosystem**: Building a strong ecosystem with third-party tools and integrations can enhance functionality.\n",
            "\n",
            "12. **Future Roadmap**: A clear plan for future developments indicates long-term viability and commitment to innovation.\n",
            "\n",
            "### Conclusion:\n",
            "\n",
            "DeepSeek's ability to replace OpenAI depends on its performance across these factors. By excelling in areas like cost, customization, ethical practices, and community support, DeepSeek could carve out a niche as a preferred alternative, especially for users seeking specialized or cost-effective solutions."
          ]
        }
      ]
    },
    {
      "cell_type": "code",
      "source": [],
      "metadata": {
        "id": "vxbKkLmZC1--"
      },
      "execution_count": null,
      "outputs": []
    },
    {
      "cell_type": "code",
      "source": [],
      "metadata": {
        "id": "Gc8V6_scC2Bx"
      },
      "execution_count": null,
      "outputs": []
    },
    {
      "cell_type": "code",
      "source": [],
      "metadata": {
        "id": "tU5dn9b-C2E_"
      },
      "execution_count": null,
      "outputs": []
    },
    {
      "cell_type": "code",
      "source": [],
      "metadata": {
        "id": "bgx0yfAxC2IW"
      },
      "execution_count": null,
      "outputs": []
    }
  ]
}